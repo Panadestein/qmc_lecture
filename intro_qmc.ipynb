{
 "cells": [
  {
   "cell_type": "markdown",
   "id": "80599331",
   "metadata": {
    "slideshow": {
     "slide_type": "slide"
    }
   },
   "source": [
    "# An introduction to quantum Monte Carlo"
   ]
  },
  {
   "cell_type": "markdown",
   "id": "16c33b82",
   "metadata": {
    "slideshow": {
     "slide_type": "slide"
    }
   },
   "source": [
    "## Statistics recap from last lecture"
   ]
  },
  {
   "cell_type": "markdown",
   "id": "feabc555",
   "metadata": {
    "slideshow": {
     "slide_type": "subslide"
    }
   },
   "source": [
    "## Random variables and probabilities\n",
    "\n",
    "- A random selection $X$, of one of the possible values $x1, x2, \\ldots$ from a sample space $\\Omega$,  with probability $0\\leq P \\leq1$, is called a **random variable**.\n",
    "- Continuous random variables have associated probability density functions (**pdf**, $f_X$) and cummulative distribution functions (**cdf**, $F_X$):\n",
    "$$P[a\\leq X\\leq b] = \\int_a^b f_X(x)dx$$\n",
    "$$F_X(x) = \\int_{-\\infty}^x f_X(y)dy$$\n",
    "There is a clear relationship between pdf and cdf. Moreover, we can derive a normalization condition for the pdf."
   ]
  },
  {
   "cell_type": "markdown",
   "id": "1fa616d1",
   "metadata": {
    "slideshow": {
     "slide_type": "subslide"
    }
   },
   "source": [
    "### Expected value\n",
    "\n",
    "The expected value (sometimes expectation value or stochastic mean value) of $X$ is defined as:\n",
    "\n",
    "$$E[X] = \\sum_i P[X=x_i]x_i$$\n",
    "\n",
    "or in the continuous case:\n",
    "$$E[X] = \\int^{+\\infty}_{-\\infty}xdF_X = \\int^{+\\infty}_{-\\infty}xf_X(x)dx$$\n"
   ]
  },
  {
   "cell_type": "markdown",
   "id": "8253f1ff",
   "metadata": {
    "slideshow": {
     "slide_type": "subslide"
    }
   },
   "source": [
    "### Expected value\n",
    "\n",
    "A function of a random variable is a random variable itself, so:\n",
    "\n",
    "$$E[g(X)]=\\int^{+\\infty}_{-\\infty}g(x)f_X(x)dx$$\n",
    "This last result is know as the **law of the unconscious statistician**, and it is only a nice application of the chain rule."
   ]
  },
  {
   "cell_type": "markdown",
   "id": "b2d11ff4",
   "metadata": {
    "slideshow": {
     "slide_type": "subslide"
    }
   },
   "source": [
    "## Variance\n",
    "\n",
    "Stochastical quantities are meaningless without a proper estimation of the error sources. The square root of the **variance** is a messure of the dispersion of a random variable. In the continous case, the variance can be computed as:\n",
    "\n",
    "$$\\sigma^2 = \\text{Var}[X]=E[(X-E[X])^2]=E[X^2]-E[X]^2$$\n",
    "\n",
    "### Exercise\n",
    "Prove the above relationship."
   ]
  },
  {
   "cell_type": "markdown",
   "id": "c3b71eea",
   "metadata": {
    "slideshow": {
     "slide_type": "slide"
    }
   },
   "source": [
    "## The Metropolis algorithm"
   ]
  },
  {
   "cell_type": "markdown",
   "id": "88d3692f",
   "metadata": {
    "slideshow": {
     "slide_type": "subslide"
    }
   },
   "source": [
    "Draw samples by constructing a Markov chain whose stationary distribution is the desired target distribution $P(x)$. Provided that our transition probability $P(x_2 \\mid x_1)$ can be separated in the product of a proposal probability $g(x_2\\mid x_1)$ and an acceptance probablity $A(x_2, x_1)$, and that **detail balance** is veryfied:\n",
    "\n",
    "$$P(x_2 \\mid x_1)P(x_1)=P(x_1 \\mid x_2)P(x_2)$$\n"
   ]
  },
  {
   "cell_type": "markdown",
   "id": "f473314d",
   "metadata": {
    "slideshow": {
     "slide_type": "subslide"
    }
   },
   "source": [
    "The algorithm proceeds as follows:\n",
    "\n",
    "- While true:\n",
    "  1. Select initial system configuration $x_0$\n",
    "  2. Draw $x' \\sim g(x' \\mid x_{i-1})$\n",
    "  3. Compute acceptance probability \n",
    "     $$A(x', x_{i-1})=\\min\\left(1, \\frac{P(x')}{P(x_{i-1})} \\frac{g(x_{i-1} \\mid x')}{g(x' \\mid x_{i-1})}\\right)$$\n",
    "  4. With probability $A(x', x_{i-1})$ set $x_i = x'$, otherwise $x_i = x_{i-1}$\n"
   ]
  },
  {
   "cell_type": "markdown",
   "id": "96496fc5",
   "metadata": {
    "slideshow": {
     "slide_type": "slide"
    }
   },
   "source": [
    "## Two important theorems"
   ]
  },
  {
   "cell_type": "markdown",
   "id": "6eba2cfc",
   "metadata": {
    "slideshow": {
     "slide_type": "subslide"
    }
   },
   "source": [
    "\n",
    "\n",
    "### Law of large numbers\n",
    "Let $X_1, X_2, \\ldots, X_N$ be a sequence of indenpendent equaly distributed (i.i.d.) reandom variables with $E[X_i]=\\mu$. For large N the average value of the $X_i$:\n",
    "\n",
    "$$\\bar{X}_N=\\frac{1}{N}\\sum_{i=1}^N X_i$$\n",
    "\n",
    "converges almost surely to $\\mu$:\n",
    "\n",
    "$$P\\left[\\lim_{N\\to\\infty}\\bar{X}_N=\\mu \\right]=1$$\n",
    "\n",
    "\n"
   ]
  },
  {
   "cell_type": "markdown",
   "id": "15eaea4d",
   "metadata": {
    "slideshow": {
     "slide_type": "subslide"
    }
   },
   "source": [
    "### Central limit theorem\n",
    "\n",
    "Let $X_1, X_2, \\ldots$ be a sequence of indenpendent equaly distributed (i.i.d.) reandom variables with $E[X_i]=\\mu$ and variance $\\sigma < \\infty$. As the sample size $N$ increases we get:\n",
    "\n",
    "$$\\sqrt(N)(\\bar{X}_N-\\mu)\\rightarrow \\mathcal{N}(0, \\sigma^2)$$\n",
    "\n",
    "In other words, regardless of the original distribution of the random variables, the **pdf** of the average tends to a normal distribution.\n"
   ]
  },
  {
   "cell_type": "markdown",
   "id": "5d96a7ef",
   "metadata": {
    "slideshow": {
     "slide_type": "subslide"
    }
   },
   "source": [
    "## Back to physics\n",
    "\n",
    "The expected value of an observable $O$ in a canonical discrete ensemble is given by:\n",
    "\n",
    "$$\\langle O\\rangle = \\frac{\\sum_i O_i e^{-\\beta E_i}}{\\sum_i e^{-\\beta E_i}}$$\n",
    "How can we compute this in practice?"
   ]
  },
  {
   "cell_type": "markdown",
   "id": "35899400",
   "metadata": {
    "slideshow": {
     "slide_type": "subslide"
    }
   },
   "source": [
    "Lets recast the expression into something more familiar:\n",
    "\n",
    "$$\\langle O\\rangle = \\sum_i O_i \\frac{e^{-\\beta E_i}}{\\sum_j e^{-\\beta E_j}}=\\sum_i p_i O_i$$\n",
    "\n",
    "Then, if we sample long enough, the law of large numbers offers us an estimator of the expected value:\n",
    "\n",
    "$$\\langle O\\rangle_p = \\frac{1}{N}\\sum_{i=1}^N O_i$$\n",
    "\n",
    "and the averages of the samples drawn with probability $p_i$ will have a normal distribution, according to the central limit theorem."
   ]
  },
  {
   "cell_type": "markdown",
   "id": "6e2b6013",
   "metadata": {
    "slideshow": {
     "slide_type": "slide"
    }
   },
   "source": [
    "# Quantum Monte Carlo"
   ]
  },
  {
   "cell_type": "markdown",
   "id": "1726435b",
   "metadata": {
    "slideshow": {
     "slide_type": "subslide"
    }
   },
   "source": [
    "\n",
    "We will focus on **variational Monte Carlo** (VMC) in this course, but you should know that other flavors exists, e.g. diffusion Monte Carlo (DMC). For VMC, we need three main ingredients:"
   ]
  },
  {
   "cell_type": "markdown",
   "id": "5390c817",
   "metadata": {
    "slideshow": {
     "slide_type": "fragment"
    }
   },
   "source": [
    "1. Schrödinger equation"
   ]
  },
  {
   "cell_type": "markdown",
   "id": "32f4d7cd",
   "metadata": {
    "slideshow": {
     "slide_type": "fragment"
    }
   },
   "source": [
    "2. Metropolis algorithm"
   ]
  },
  {
   "cell_type": "markdown",
   "id": "5902add7",
   "metadata": {
    "slideshow": {
     "slide_type": "fragment"
    }
   },
   "source": [
    "3. Efficient method for optimizing the parameters in the wave functions"
   ]
  },
  {
   "cell_type": "markdown",
   "id": "be25415f",
   "metadata": {
    "slideshow": {
     "slide_type": "subslide"
    }
   },
   "source": [
    "### VMC fundamentals\n",
    "\n",
    "\n",
    "The main idea is to calculate the multidimensional integrals appearing in quantum mechanics using a Monte Carlo numerical integration. The most important quantity is the variational energy $E$, which is associated to a Hamiltonian $H$ and a wave function $\\Psi$:\n",
    "\n",
    "$$E_v=\\frac{\\langle \\Psi|H|\\Psi \\rangle}{\\langle \\Psi|\\Psi \\rangle}=\\frac{\\int dR \\Psi(R)^2 E_L(R)}{\\int dR \\Psi(R)^2}=\\int dR E_L(R) \\rho(R)$$\n",
    "where we have defined the **local energy**:\n",
    "$$E_L(R)=\\frac{H\\Psi(R)}{\\Psi(R)}$$\n",
    "and the **normalized probability density**:\n",
    "$$\\rho(R)=\\frac{\\Psi(R)^2}{\\int dR \\Psi(R)^2}$$"
   ]
  },
  {
   "cell_type": "markdown",
   "id": "314a9f8d",
   "metadata": {
    "slideshow": {
     "slide_type": "subslide"
    }
   },
   "source": [
    "## Estimation of the variational energy\n",
    "\n",
    "We can estimate $E_v$ as the average of the $E_L(R)$ on a sample of $M$ points $R_k$, sampled from the probaility density $\\rho(R)$:\n",
    "$$E_v \\approx \\bar{E}_v = \\frac{1}{M}\\sum_{k=1}^M E_L(R_k)$$\n",
    "\n",
    "### Question:\n",
    "\n",
    "How can we sample the $R_k$?"
   ]
  },
  {
   "cell_type": "markdown",
   "id": "3a25b1f8",
   "metadata": {
    "slideshow": {
     "slide_type": "subslide"
    }
   },
   "source": [
    "## Estimation of the variance\n",
    "\n",
    "In VMC the variance can be computed as:\n",
    "$$\\sigma^2=\\int dR (E_L(R)-E_v)^2\\rho(R)$$\n",
    "The corresponding estimator is:\n",
    "$$\\sigma^2\\approx\\bar{\\sigma}^2=\\frac{1}{M}\\sum_{k=1}^M (E_L(R)-\\bar{E}_v)^2$$"
   ]
  },
  {
   "cell_type": "markdown",
   "id": "bc565bc3",
   "metadata": {
    "slideshow": {
     "slide_type": "subslide"
    }
   },
   "source": [
    "## Types of errors in VMC\n",
    "\n",
    "1. **Systematic error** due to approximate wave function (common to all *ab initio* methods)\n",
    "2. **Statistical uncertainty** due to the sampling of finite size M (specific of Monte Carlo methods)\n",
    "\n",
    "A very powerful result follows then from the central limit theorem. Using M Monte Carlo samples the integration error is given by:\n",
    "\n",
    "$$E_v\\pm\\delta Ev$$\n",
    "$$\\delta E_v \\sim \\frac{\\sigma}{\\sqrt{M}}$$\n",
    "\n",
    "independently of the dimensions of the problem!"
   ]
  },
  {
   "cell_type": "markdown",
   "id": "f0bda213",
   "metadata": {
    "slideshow": {
     "slide_type": "subslide"
    }
   },
   "source": [
    "## Wave functions\n",
    "\n",
    "Since we do not solve analytical integrals, our wave function (WF) choice gets simplified. A popular choice are\n",
    "the so called Jastrow-Slater wave functions:\n",
    "\n",
    "$$\\Psi(R)=J(R)\\Phi(R)$$\n",
    "\n",
    "where $J(R)$ is the **Jastrow factor** and $\\Phi(R)$ is a **Slater determinant** or a linear coombination of them."
   ]
  },
  {
   "cell_type": "markdown",
   "id": "f14940af",
   "metadata": {
    "slideshow": {
     "slide_type": "subslide"
    }
   },
   "source": [
    "## Jastrow factor\n",
    "\n",
    "The Jastrow factor has the general functional form:\n",
    "\n",
    "$$J(R)=e^{f(R)}$$\n",
    "\n",
    "where $f(R)$ is a function of the interparticle distances, and it captures the **dynamic correlation** effects of the wave function. In practice, the Jastrow is separated in three components:\n",
    "\n",
    "$$J(R)=J_{ee}(R_{ij})J_{en}(R_{i\\alpha})J_{een}(R_{i\\alpha},R_{j\\alpha},R_{ij})$$\n",
    "\n",
    "A good Jastrow factor is critical for the correct treatment of the so called **cusp conditions**."
   ]
  },
  {
   "cell_type": "markdown",
   "id": "79be9277",
   "metadata": {
    "slideshow": {
     "slide_type": "subslide"
    }
   },
   "source": [
    "## Cusp conditions\n",
    "\n",
    "We want the local energy $E_L(R)$ to be a finite quantity:\n",
    "\n",
    "$$\\frac{H\\Psi}{\\Psi}=-\\frac{1}{2}\\sum_i\\frac{\\nabla_i^2 \\Psi}{\\Psi}-\\frac{Z}{R_{ij}}$$\n",
    "\n",
    "For small interparticles distances the potential energy diverges, we need then to ensure that (**Kato's condition**):\n",
    "\n",
    "$$\\frac{\\Psi'}{\\Psi}\\Bigr|_{\\{R_{i\\alpha} \\mid R_{ij}\\}=0}=\\{-Z \\mid \\frac{1}{2}\\}$$"
   ]
  },
  {
   "cell_type": "markdown",
   "id": "e26039fa",
   "metadata": {
    "slideshow": {
     "slide_type": "slide"
    }
   },
   "source": [
    "# VMC with uniform sampling "
   ]
  },
  {
   "cell_type": "markdown",
   "id": "50bba8ca",
   "metadata": {
    "slideshow": {
     "slide_type": "subslide"
    }
   },
   "source": [
    "## Hydrogen atom solution\n",
    "\n",
    "As an example, lets compute the variational energy of the hydrogen atom. Recall the expression:\n",
    "\n",
    "$$E_v=\\frac{\\int dR \\Psi(R)^2 E_L(R)}{\\int dR \\Psi(R)^2}$$\n",
    "\n",
    "We can then use **importance sampling**:\n",
    "\n",
    "$$E_v=\\frac{\\int dR \\frac{\\Psi(R)^2}{P(R)}P(R) E_L(R)}{\\int dR \\frac{\\Psi(R)^2}{P(R)}P(R)}$$\n",
    "\n",
    "### Question\n",
    "\n",
    "What is a natural choice for $P(R)$?"
   ]
  },
  {
   "cell_type": "markdown",
   "id": "0dd7d6ee",
   "metadata": {
    "slideshow": {
     "slide_type": "fragment"
    }
   },
   "source": [
    "The uniform probability in a cube of edges $L$, centered on the origin:\n",
    "\n",
    "$$P(R)=\\frac{1}{L^3}$$"
   ]
  },
  {
   "cell_type": "markdown",
   "id": "a22bcbeb",
   "metadata": {
    "slideshow": {
     "slide_type": "subslide"
    }
   },
   "source": [
    "## Simulation algorithm\n",
    "\n",
    "- Run $N_{MC}$ steps\n",
    "  1. Draw $R \\sim P(R)$ for cube with geometry $(−5,−5,−5)\\le(x,y,z)\\le(5,5,5)$\n",
    "  2. Compute $\\Psi(R)^2/P(R)$ and accumulate results (**Why?**)\n",
    "  3. Compute $\\Psi(R)^2E_L(R)/P(R)$ and accumulate results (**Why?**)\n",
    "  \n",
    "- Then compute the variational energy and the corresponding statistical error"
   ]
  },
  {
   "cell_type": "markdown",
   "id": "7bc9b6b5",
   "metadata": {
    "slideshow": {
     "slide_type": "subslide"
    }
   },
   "source": [
    "## Ingredients\n",
    "\n",
    "- Functions to compute:\n",
    "  1. The potential\n",
    "  2. The wave function\n",
    "  3. The local kinetic energy\n",
    "  4. The local energy\n",
    "  \n",
    "evaluated at $R=R(x, y, z)$. Ready, set, ..."
   ]
  },
  {
   "cell_type": "code",
   "execution_count": 1,
   "id": "a3e7a065",
   "metadata": {
    "slideshow": {
     "slide_type": "fragment"
    }
   },
   "outputs": [],
   "source": [
    "# Code!\n",
    "import numpy as np"
   ]
  },
  {
   "cell_type": "markdown",
   "id": "889295f2",
   "metadata": {
    "slideshow": {
     "slide_type": "subslide"
    }
   },
   "source": [
    "## The potential\n",
    "\n",
    "The Coulomb potential for the electrons is:\n",
    "\n",
    "$$V(R)=\\frac{1}{\\sqrt{x^2+y^2+z^2}}$$"
   ]
  },
  {
   "cell_type": "code",
   "execution_count": 2,
   "id": "96aaba6f",
   "metadata": {
    "slideshow": {
     "slide_type": "fragment"
    }
   },
   "outputs": [],
   "source": [
    "def pot(R):\n",
    "    \"\"\"Computes coulomb potential for electrons\"\"\"\n",
    "    return -1 / np.sqrt(np.dot(R, R))"
   ]
  },
  {
   "cell_type": "markdown",
   "id": "557b6c72",
   "metadata": {
    "slideshow": {
     "slide_type": "subslide"
    }
   },
   "source": [
    "## The wave function\n",
    "\n",
    "We consider the following model wave function:\n",
    "\n",
    "$$\\Psi(R)=e^{-a|R|}$$"
   ]
  },
  {
   "cell_type": "code",
   "execution_count": 3,
   "id": "d6ebdc1a",
   "metadata": {
    "slideshow": {
     "slide_type": "fragment"
    }
   },
   "outputs": [],
   "source": [
    "def psi(a, R):\n",
    "    \"\"\"Computes hydrogen wave function\"\"\"\n",
    "    return np.exp(-a * np.sqrt(np.dot(R, R)))"
   ]
  },
  {
   "cell_type": "markdown",
   "id": "313e60bb",
   "metadata": {
    "slideshow": {
     "slide_type": "subslide"
    }
   },
   "source": [
    "## The local kinetic energy\n",
    "\n",
    "Differenciate two times the expresion in the middle to get the last one:\n",
    "\n",
    "$$T_L(R)=-\\frac{1}{2}\\frac{\\nabla^2 \\Psi(R)}{\\Psi(R)}=-\\frac{1}{2}\\left(a^2 - \\frac{2a}{|R|} \\right)$$"
   ]
  },
  {
   "cell_type": "code",
   "execution_count": 4,
   "id": "62e671f2",
   "metadata": {
    "slideshow": {
     "slide_type": "fragment"
    }
   },
   "outputs": [],
   "source": [
    "def kin(a, R):\n",
    "    \"\"\"Computes local kinetic energy\"\"\"\n",
    "    dist = np.sqrt(np.dot(R, R))\n",
    "    return a * (1 / dist - 0.5 * a)"
   ]
  },
  {
   "cell_type": "markdown",
   "id": "bfe45285",
   "metadata": {
    "slideshow": {
     "slide_type": "subslide"
    }
   },
   "source": [
    "## The local energy\n",
    "\n",
    "Add the pieces together:\n",
    "\n",
    "$$E_L(R)=T_L(R)+V(R)$$\n"
   ]
  },
  {
   "cell_type": "code",
   "execution_count": 5,
   "id": "5e6bc31e",
   "metadata": {
    "slideshow": {
     "slide_type": "fragment"
    }
   },
   "outputs": [],
   "source": [
    "def e_loc(a, R):\n",
    "    \"\"\"Computes the local energy for the hydrogen\"\"\"\n",
    "    return kin(a, R) + pot(R)"
   ]
  },
  {
   "cell_type": "markdown",
   "id": "15d929a3",
   "metadata": {
    "slideshow": {
     "slide_type": "subslide"
    }
   },
   "source": [
    "## Helper functions\n",
    "\n",
    "A function that computes the average and the variance of the local energy:"
   ]
  },
  {
   "cell_type": "code",
   "execution_count": 6,
   "id": "fd47b3f4",
   "metadata": {
    "slideshow": {
     "slide_type": "fragment"
    }
   },
   "outputs": [],
   "source": [
    "def stats(E):\n",
    "    \"\"\"Computes average and variance of sample.\"\"\"\n",
    "    ave = np.mean(E)\n",
    "    err = np.std(E, ddof=1) # Important to get an umbiased stimator! (Bessel's correction)\n",
    "    return ave, err"
   ]
  },
  {
   "cell_type": "markdown",
   "id": "0e324753",
   "metadata": {
    "slideshow": {
     "slide_type": "subslide"
    }
   },
   "source": [
    "## Monte Carlo simulation\n",
    "\n",
    "Lets set in our calculation $a = 1.2$, $nmc = 10000$, and $nsa=40$:"
   ]
  },
  {
   "cell_type": "code",
   "execution_count": 7,
   "id": "b2e9a2fe",
   "metadata": {
    "slideshow": {
     "slide_type": "fragment"
    }
   },
   "outputs": [
    {
     "name": "stdout",
     "output_type": "stream",
     "text": [
      "E = -0.46868167113798515 +/- 0.04823011269107362\n"
     ]
    }
   ],
   "source": [
    "def monte_carlo(a, nmc):\n",
    "    \"\"\"Uniform sampling Monte Carlo simulation of the hydorgen atom\"\"\"\n",
    "    ener, norm = 0, 0\n",
    "    \n",
    "    for _ in np.arange(nmc):\n",
    "        R = np.random.uniform(-5, 5, 3)\n",
    "        WFSQ = psi(a, R) * psi(a, R)\n",
    "        norm += WFSQ\n",
    "        ener += WFSQ * e_loc(a, R)\n",
    "        \n",
    "    return ener / norm\n",
    "\n",
    "# Set simulation conditions\n",
    "a = 1.2\n",
    "nmc = 10000\n",
    "nsa = 40\n",
    "\n",
    "# Draw samples\n",
    "X = np.zeros(nsa)\n",
    "for idx in np.arange(nsa):\n",
    "    X[idx] = monte_carlo(a, nmc)\n",
    "\n",
    "# Compute estimator of variational energy and error\n",
    "E, err = stats(X)\n",
    "\n",
    "print(f\"E = {E} +/- {err}\")"
   ]
  },
  {
   "cell_type": "markdown",
   "id": "3e6309a8",
   "metadata": {
    "slideshow": {
     "slide_type": "subslide"
    }
   },
   "source": [
    "# Achtung!\n",
    "\n",
    "Although computationally harmless, there is a serious theoretical omission on the above code (unless you omitted it intentionally, but did you?). Can you find it?"
   ]
  },
  {
   "cell_type": "markdown",
   "id": "681cfbef",
   "metadata": {
    "slideshow": {
     "slide_type": "slide"
    }
   },
   "source": [
    "# Conclusions\n",
    "\n",
    "Why quantum Monte Carlo?\n",
    "\n",
    "1. Favorable scaling $N^4$\n",
    "2. Flexibility in the selection of the wave function\n",
    "3. Arguably easier to (massively) parallelize than any other quantum chemistry method\n",
    "4. No need to compute forces (unless you want) or nasty integrals\n",
    "5. Error independent of the dimensions of the system"
   ]
  },
  {
   "cell_type": "markdown",
   "id": "4b4f3da7",
   "metadata": {
    "slideshow": {
     "slide_type": "subslide"
    }
   },
   "source": [
    "\"If God has made the world a perfect mechanism, He has at least conceded so much to our imperfect intellects\n",
    "that in order to predict little parts of it, we need not solve innumerable differential equations, but can use dice with fair success.\"\n",
    "\n",
    "Max Born"
   ]
  }
 ],
 "metadata": {
  "celltoolbar": "Slideshow",
  "kernelspec": {
   "display_name": "Python 3 (ipykernel)",
   "language": "python",
   "name": "python3"
  },
  "language_info": {
   "codemirror_mode": {
    "name": "ipython",
    "version": 3
   },
   "file_extension": ".py",
   "mimetype": "text/x-python",
   "name": "python",
   "nbconvert_exporter": "python",
   "pygments_lexer": "ipython3",
   "version": "3.10.9"
  },
  "rise": {
   "scroll": true,
   "theme": "moon"
  }
 },
 "nbformat": 4,
 "nbformat_minor": 5
}
